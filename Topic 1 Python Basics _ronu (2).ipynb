{
 "cells": [
  {
   "cell_type": "markdown",
   "id": "76b98858",
   "metadata": {},
   "source": [
    "# VALUES\n"
   ]
  },
  {
   "cell_type": "code",
   "execution_count": 1,
   "id": "fbd00602",
   "metadata": {},
   "outputs": [
    {
     "data": {
      "text/plain": [
       "1"
      ]
     },
     "execution_count": 1,
     "metadata": {},
     "output_type": "execute_result"
    }
   ],
   "source": [
    "1"
   ]
  },
  {
   "cell_type": "code",
   "execution_count": 2,
   "id": "f8120e47",
   "metadata": {},
   "outputs": [
    {
     "data": {
      "text/plain": [
       "2"
      ]
     },
     "execution_count": 2,
     "metadata": {},
     "output_type": "execute_result"
    }
   ],
   "source": [
    "2"
   ]
  },
  {
   "cell_type": "code",
   "execution_count": 3,
   "id": "86202c9e",
   "metadata": {},
   "outputs": [
    {
     "data": {
      "text/plain": [
       "4"
      ]
     },
     "execution_count": 3,
     "metadata": {},
     "output_type": "execute_result"
    }
   ],
   "source": [
    "2*2"
   ]
  },
  {
   "cell_type": "code",
   "execution_count": 4,
   "id": "3ec0cdcc",
   "metadata": {},
   "outputs": [
    {
     "data": {
      "text/plain": [
       "12"
      ]
     },
     "execution_count": 4,
     "metadata": {},
     "output_type": "execute_result"
    }
   ],
   "source": [
    "3*4"
   ]
  },
  {
   "cell_type": "code",
   "execution_count": 6,
   "id": "7752c48e",
   "metadata": {},
   "outputs": [
    {
     "data": {
      "text/plain": [
       "8"
      ]
     },
     "execution_count": 6,
     "metadata": {},
     "output_type": "execute_result"
    }
   ],
   "source": [
    "2+3*2\n"
   ]
  },
  {
   "cell_type": "code",
   "execution_count": 7,
   "id": "1e6dda19",
   "metadata": {},
   "outputs": [
    {
     "data": {
      "text/plain": [
       "(1+2j)"
      ]
     },
     "execution_count": 7,
     "metadata": {},
     "output_type": "execute_result"
    }
   ],
   "source": [
    "1+2J"
   ]
  },
  {
   "cell_type": "markdown",
   "id": "b04dd801",
   "metadata": {},
   "source": [
    "# TYPE OF THE VALUES type()"
   ]
  },
  {
   "cell_type": "markdown",
   "id": "1e5c8d47",
   "metadata": {},
   "source": [
    "gives the data type of the values"
   ]
  },
  {
   "cell_type": "code",
   "execution_count": 8,
   "id": "9001871a",
   "metadata": {},
   "outputs": [
    {
     "data": {
      "text/plain": [
       "int"
      ]
     },
     "execution_count": 8,
     "metadata": {},
     "output_type": "execute_result"
    }
   ],
   "source": [
    "type(1)"
   ]
  },
  {
   "cell_type": "code",
   "execution_count": 9,
   "id": "628ca76f",
   "metadata": {},
   "outputs": [
    {
     "data": {
      "text/plain": [
       "int"
      ]
     },
     "execution_count": 9,
     "metadata": {},
     "output_type": "execute_result"
    }
   ],
   "source": [
    "type(2*2)"
   ]
  },
  {
   "cell_type": "code",
   "execution_count": 10,
   "id": "e9a25256",
   "metadata": {},
   "outputs": [
    {
     "data": {
      "text/plain": [
       "int"
      ]
     },
     "execution_count": 10,
     "metadata": {},
     "output_type": "execute_result"
    }
   ],
   "source": [
    "type(2+2*3)"
   ]
  },
  {
   "cell_type": "code",
   "execution_count": 11,
   "id": "8a3e2c9e",
   "metadata": {},
   "outputs": [
    {
     "data": {
      "text/plain": [
       "float"
      ]
     },
     "execution_count": 11,
     "metadata": {},
     "output_type": "execute_result"
    }
   ],
   "source": [
    "type(3.3)"
   ]
  },
  {
   "cell_type": "code",
   "execution_count": 12,
   "id": "b7228d92",
   "metadata": {},
   "outputs": [
    {
     "data": {
      "text/plain": [
       "int"
      ]
     },
     "execution_count": 12,
     "metadata": {},
     "output_type": "execute_result"
    }
   ],
   "source": [
    "type(-1)"
   ]
  },
  {
   "cell_type": "code",
   "execution_count": 13,
   "id": "e1eb5245",
   "metadata": {},
   "outputs": [
    {
     "data": {
      "text/plain": [
       "str"
      ]
     },
     "execution_count": 13,
     "metadata": {},
     "output_type": "execute_result"
    }
   ],
   "source": [
    "type(\"Hello World\")"
   ]
  },
  {
   "cell_type": "code",
   "execution_count": 14,
   "id": "71016eae",
   "metadata": {},
   "outputs": [
    {
     "data": {
      "text/plain": [
       "str"
      ]
     },
     "execution_count": 14,
     "metadata": {},
     "output_type": "execute_result"
    }
   ],
   "source": [
    "type('1.1')"
   ]
  },
  {
   "cell_type": "code",
   "execution_count": 15,
   "id": "5648b1f4",
   "metadata": {},
   "outputs": [
    {
     "data": {
      "text/plain": [
       "str"
      ]
     },
     "execution_count": 15,
     "metadata": {},
     "output_type": "execute_result"
    }
   ],
   "source": [
    "type(\"1.1\")"
   ]
  },
  {
   "cell_type": "code",
   "execution_count": 16,
   "id": "55bb97b5",
   "metadata": {},
   "outputs": [
    {
     "data": {
      "text/plain": [
       "complex"
      ]
     },
     "execution_count": 16,
     "metadata": {},
     "output_type": "execute_result"
    }
   ],
   "source": [
    "type(1+2j)"
   ]
  },
  {
   "cell_type": "markdown",
   "id": "b08f709b",
   "metadata": {},
   "source": [
    "# ARITHMATIC OPERATION"
   ]
  },
  {
   "cell_type": "code",
   "execution_count": 17,
   "id": "faa0d4e5",
   "metadata": {},
   "outputs": [
    {
     "name": "stdout",
     "output_type": "stream",
     "text": [
      "8\n"
     ]
    }
   ],
   "source": [
    "a= 5\n",
    "b=3\n",
    "c=a+b\n",
    "print(c)"
   ]
  },
  {
   "cell_type": "code",
   "execution_count": 18,
   "id": "18e60bfe",
   "metadata": {},
   "outputs": [],
   "source": [
    "x=\"Hello\"\n",
    "y= \"World\"\n",
    "z = x +\" \" +y"
   ]
  },
  {
   "cell_type": "code",
   "execution_count": 19,
   "id": "025abc5b",
   "metadata": {},
   "outputs": [
    {
     "data": {
      "text/plain": [
       "'Hello World'"
      ]
     },
     "execution_count": 19,
     "metadata": {},
     "output_type": "execute_result"
    }
   ],
   "source": [
    "z"
   ]
  },
  {
   "cell_type": "code",
   "execution_count": 20,
   "id": "f5f69c8f",
   "metadata": {},
   "outputs": [
    {
     "name": "stdout",
     "output_type": "stream",
     "text": [
      "10.0\n"
     ]
    }
   ],
   "source": [
    "#Normal Division\n",
    "\n",
    "a=20\n",
    "b =2\n",
    "c = a/b\n",
    "print(c)"
   ]
  },
  {
   "cell_type": "code",
   "execution_count": 21,
   "id": "9b218ac3",
   "metadata": {},
   "outputs": [
    {
     "name": "stdout",
     "output_type": "stream",
     "text": [
      "1\n"
     ]
    }
   ],
   "source": [
    "#Floor Division: Lowest Possible value\n",
    "\n",
    "a = 5\n",
    "b = 3\n",
    "c = a//b\n",
    "print(c)"
   ]
  },
  {
   "cell_type": "code",
   "execution_count": 22,
   "id": "93997316",
   "metadata": {},
   "outputs": [
    {
     "name": "stdout",
     "output_type": "stream",
     "text": [
      "2\n"
     ]
    }
   ],
   "source": [
    "#Module: Gives you the reminder\n",
    "a = 5\n",
    "b = 3\n",
    "c = a%b\n",
    "print(c)"
   ]
  },
  {
   "cell_type": "code",
   "execution_count": 24,
   "id": "adccfcfb",
   "metadata": {},
   "outputs": [
    {
     "name": "stdout",
     "output_type": "stream",
     "text": [
      "125\n"
     ]
    }
   ],
   "source": [
    "#To the Power\n",
    "\n",
    "a =5\n",
    "b =3\n",
    "c = a**b\n",
    "print(c)"
   ]
  },
  {
   "cell_type": "code",
   "execution_count": 25,
   "id": "d221f04b",
   "metadata": {},
   "outputs": [
    {
     "name": "stdout",
     "output_type": "stream",
     "text": [
      "144\n"
     ]
    }
   ],
   "source": [
    "a=12\n",
    "b=2\n",
    "c= a**b\n",
    "print(c)"
   ]
  },
  {
   "cell_type": "code",
   "execution_count": 26,
   "id": "08b3e6b9",
   "metadata": {},
   "outputs": [
    {
     "data": {
      "text/plain": [
       "True"
      ]
     },
     "execution_count": 26,
     "metadata": {},
     "output_type": "execute_result"
    }
   ],
   "source": [
    "#Comparision: gives the comparision and gives a value against it.\n",
    "\n",
    "1==1"
   ]
  },
  {
   "cell_type": "code",
   "execution_count": 27,
   "id": "2a1b5eed",
   "metadata": {},
   "outputs": [
    {
     "data": {
      "text/plain": [
       "False"
      ]
     },
     "execution_count": 27,
     "metadata": {},
     "output_type": "execute_result"
    }
   ],
   "source": [
    "1 > 2"
   ]
  },
  {
   "cell_type": "code",
   "execution_count": 28,
   "id": "437ab16a",
   "metadata": {},
   "outputs": [
    {
     "data": {
      "text/plain": [
       "True"
      ]
     },
     "execution_count": 28,
     "metadata": {},
     "output_type": "execute_result"
    }
   ],
   "source": [
    "1<2"
   ]
  },
  {
   "cell_type": "markdown",
   "id": "72922360",
   "metadata": {},
   "source": [
    "# VARIABLES"
   ]
  },
  {
   "cell_type": "code",
   "execution_count": 29,
   "id": "a603ed82",
   "metadata": {},
   "outputs": [
    {
     "name": "stdout",
     "output_type": "stream",
     "text": [
      "['False', 'None', 'True', 'and', 'as', 'assert', 'async', 'await', 'break', 'class', 'continue', 'def', 'del', 'elif', 'else', 'except', 'finally', 'for', 'from', 'global', 'if', 'import', 'in', 'is', 'lambda', 'nonlocal', 'not', 'or', 'pass', 'raise', 'return', 'try', 'while', 'with', 'yield']\n"
     ]
    }
   ],
   "source": [
    "#Reserved Key words\n",
    "\n",
    "import keyword\n",
    "print(keyword.kwlist)"
   ]
  },
  {
   "cell_type": "markdown",
   "id": "c6478b53",
   "metadata": {},
   "source": [
    "above are the set of words which are reserved and cant be used as variables.\n",
    "\n",
    "Python's reserved keywords are words that cannot be used as identifiers (like variable names, function names, class names, etc.).\n",
    "\n",
    "keywords are necessary for syntax of the language platform\n"
   ]
  },
  {
   "cell_type": "markdown",
   "id": "df3c3577",
   "metadata": {},
   "source": [
    "'keyword' -> name of the module "
   ]
  },
  {
   "cell_type": "markdown",
   "id": "e3360ee7",
   "metadata": {},
   "source": [
    "'print(keywords.kwlist)' ->  prints the content of \n",
    "'kwlist' -> which is expected to be an attribute (like a variable or a list) defined within the keywords module."
   ]
  },
  {
   "cell_type": "markdown",
   "id": "66de53e3",
   "metadata": {},
   "source": [
    "# DATASTRUCTURES"
   ]
  },
  {
   "cell_type": "markdown",
   "id": "7fbf93b3",
   "metadata": {},
   "source": [
    "To store a single value -> You could use a single variable like a=1 (stores single value) ; but to store multiple values we would need Datastructures.\n",
    "\n",
    "1. LIST: Mutable 1D types -> i.e they can be altered. list() / a= [data]\n",
    "2. TUPLE: Non-Mutable 1D Types -> i.e Can't be changed or altered.  tuple() / a = (data)\n",
    "3. SET : Removes the duplicates -> set() / a ={data}\n",
    "4. DICT: Key and Value Pair or which has row and column kind of data like excel. dict() / a = {'BDA' : ['Ajay','Ronu'],'Revenue':[200000,300000]}"
   ]
  },
  {
   "cell_type": "code",
   "execution_count": 30,
   "id": "28af5875",
   "metadata": {},
   "outputs": [],
   "source": [
    "#LIST"
   ]
  },
  {
   "cell_type": "code",
   "execution_count": 31,
   "id": "9df2217c",
   "metadata": {},
   "outputs": [],
   "source": [
    "a = [1,2,3,4]"
   ]
  },
  {
   "cell_type": "code",
   "execution_count": 32,
   "id": "dae4e43c",
   "metadata": {},
   "outputs": [
    {
     "name": "stdout",
     "output_type": "stream",
     "text": [
      "[1, 2, 3, 4]\n"
     ]
    }
   ],
   "source": [
    "print(a)\n"
   ]
  },
  {
   "cell_type": "code",
   "execution_count": 33,
   "id": "124178f3",
   "metadata": {},
   "outputs": [
    {
     "data": {
      "text/plain": [
       "list"
      ]
     },
     "execution_count": 33,
     "metadata": {},
     "output_type": "execute_result"
    }
   ],
   "source": [
    "type(a)"
   ]
  },
  {
   "cell_type": "code",
   "execution_count": 34,
   "id": "a3151f96",
   "metadata": {},
   "outputs": [],
   "source": [
    "#2.Tupple"
   ]
  },
  {
   "cell_type": "code",
   "execution_count": 35,
   "id": "e8a63d46",
   "metadata": {},
   "outputs": [
    {
     "data": {
      "text/plain": [
       "tuple"
      ]
     },
     "execution_count": 35,
     "metadata": {},
     "output_type": "execute_result"
    }
   ],
   "source": [
    "b = (1,2,3,4)\n",
    "type(b)"
   ]
  },
  {
   "cell_type": "code",
   "execution_count": 36,
   "id": "09c1e7c3",
   "metadata": {},
   "outputs": [],
   "source": [
    "#3.Set"
   ]
  },
  {
   "cell_type": "code",
   "execution_count": 37,
   "id": "077444c7",
   "metadata": {},
   "outputs": [],
   "source": [
    "c = {1,1,2,2,2,3,4,5,6,2,7,3,3,8,9,9,5,10}"
   ]
  },
  {
   "cell_type": "code",
   "execution_count": 38,
   "id": "02db8a40",
   "metadata": {},
   "outputs": [
    {
     "name": "stdout",
     "output_type": "stream",
     "text": [
      "{1, 2, 3, 4, 5, 6, 7, 8, 9, 10}\n"
     ]
    }
   ],
   "source": [
    "print(c)"
   ]
  },
  {
   "cell_type": "markdown",
   "id": "d499b54e",
   "metadata": {},
   "source": [
    "See the duplicates are auto removed and filtered"
   ]
  },
  {
   "cell_type": "code",
   "execution_count": 39,
   "id": "61a2a0b6",
   "metadata": {},
   "outputs": [],
   "source": [
    "#4. Dict"
   ]
  },
  {
   "cell_type": "code",
   "execution_count": 40,
   "id": "35a3d66e",
   "metadata": {},
   "outputs": [],
   "source": [
    "d= {'BDA': ['Sahil','Santosh', 'Vikram'],'Weekly Revenue':[200000,300000,500000]}"
   ]
  },
  {
   "cell_type": "code",
   "execution_count": 41,
   "id": "ea24b51d",
   "metadata": {},
   "outputs": [
    {
     "name": "stdout",
     "output_type": "stream",
     "text": [
      "{'BDA': ['Sahil', 'Santosh', 'Vikram'], 'Weekly Revenue': [200000, 300000, 500000]}\n"
     ]
    }
   ],
   "source": [
    "print(d)"
   ]
  },
  {
   "cell_type": "code",
   "execution_count": 42,
   "id": "d498f8bb",
   "metadata": {},
   "outputs": [
    {
     "data": {
      "text/plain": [
       "dict"
      ]
     },
     "execution_count": 42,
     "metadata": {},
     "output_type": "execute_result"
    }
   ],
   "source": [
    "type(d)"
   ]
  },
  {
   "cell_type": "markdown",
   "id": "66a2b8f2",
   "metadata": {},
   "source": [
    "# PYTHON CONTROL FLOW"
   ]
  },
  {
   "cell_type": "code",
   "execution_count": 43,
   "id": "68889d2b",
   "metadata": {},
   "outputs": [],
   "source": [
    "#LOOP"
   ]
  },
  {
   "cell_type": "code",
   "execution_count": 45,
   "id": "57d610be",
   "metadata": {},
   "outputs": [],
   "source": [
    "students_marks = [75,85,50,90,40]"
   ]
  },
  {
   "cell_type": "code",
   "execution_count": 47,
   "id": "3ef1c9a7",
   "metadata": {},
   "outputs": [
    {
     "name": "stdout",
     "output_type": "stream",
     "text": [
      "Passed\n",
      "Passed\n",
      "Passed\n",
      "Passed\n",
      "Failed\n"
     ]
    }
   ],
   "source": [
    "for mark in students_marks:\n",
    "    if mark >= 50 :\n",
    "        print('Passed')\n",
    "    else:\n",
    "        print('Failed')"
   ]
  },
  {
   "cell_type": "code",
   "execution_count": 52,
   "id": "1ce14940",
   "metadata": {},
   "outputs": [],
   "source": [
    "marks = [20,30,60,61,71,75,85,60,90,91,40]"
   ]
  },
  {
   "cell_type": "code",
   "execution_count": 54,
   "id": "5ebd1de4",
   "metadata": {},
   "outputs": [
    {
     "name": "stdout",
     "output_type": "stream",
     "text": [
      "Third Division\n",
      "Third Division\n",
      "Second Division\n",
      "Second Division\n",
      "Second Division\n",
      "Second Division\n",
      "Second Division\n",
      "Second Division\n",
      "first Division\n",
      "first Division\n",
      "Third Division\n"
     ]
    }
   ],
   "source": [
    "for mark in marks:\n",
    "    if 20 <= mark <= 59: \n",
    "        print(\"Third Division\")\n",
    "    elif 60 <= mark <= 89:\n",
    "        print(\"Second Division\")\n",
    "    elif mark >= 90:\n",
    "        print(\"first Division\")"
   ]
  },
  {
   "cell_type": "markdown",
   "id": "24816706",
   "metadata": {},
   "source": [
    "# FUNCTIONS IN PYTHON"
   ]
  },
  {
   "cell_type": "code",
   "execution_count": 60,
   "id": "dccd75fd",
   "metadata": {},
   "outputs": [
    {
     "ename": "IndentationError",
     "evalue": "unindent does not match any outer indentation level (<tokenize>, line 5)",
     "output_type": "error",
     "traceback": [
      "\u001b[1;36m  File \u001b[1;32m<tokenize>:5\u001b[1;36m\u001b[0m\n\u001b[1;33m    else:\u001b[0m\n\u001b[1;37m    ^\u001b[0m\n\u001b[1;31mIndentationError\u001b[0m\u001b[1;31m:\u001b[0m unindent does not match any outer indentation level\n"
     ]
    }
   ],
   "source": [
    "def function_name(marks):\n",
    "    for mark in marks: \n",
    "        if mark >= 50: \n",
    "            print (\"Pass\")\n",
    "     else: \n",
    "          print (\"Fail\")"
   ]
  },
  {
   "cell_type": "code",
   "execution_count": 64,
   "id": "d51105b4",
   "metadata": {},
   "outputs": [],
   "source": [
    "marks = [75,85,60,90,40]"
   ]
  },
  {
   "cell_type": "code",
   "execution_count": 66,
   "id": "99e71a3f",
   "metadata": {},
   "outputs": [],
   "source": [
    "def function2(marks):\n",
    "    for mark in marks:\n",
    "        if mark >=50:\n",
    "            print(\"Pass\")\n",
    "        else:\n",
    "            print(\"Fail\")"
   ]
  },
  {
   "cell_type": "code",
   "execution_count": 67,
   "id": "891dbac7",
   "metadata": {},
   "outputs": [
    {
     "name": "stdout",
     "output_type": "stream",
     "text": [
      "Pass\n",
      "Pass\n",
      "Pass\n",
      "Pass\n",
      "Fail\n"
     ]
    }
   ],
   "source": [
    "function2(marks)"
   ]
  },
  {
   "cell_type": "code",
   "execution_count": 68,
   "id": "39338f15",
   "metadata": {},
   "outputs": [],
   "source": [
    "def function_name(marks):\n",
    "    for mark in marks:\n",
    "        if mark >= 60:\n",
    "            print(\"pass\")\n",
    "        else:\n",
    "            print(\"Fail\")"
   ]
  },
  {
   "cell_type": "code",
   "execution_count": 75,
   "id": "4dffa059",
   "metadata": {},
   "outputs": [
    {
     "ename": "SyntaxError",
     "evalue": "invalid syntax (3991366324.py, line 1)",
     "output_type": "error",
     "traceback": [
      "\u001b[1;36m  Cell \u001b[1;32mIn[75], line 1\u001b[1;36m\u001b[0m\n\u001b[1;33m    DELIMITER $$\u001b[0m\n\u001b[1;37m              ^\u001b[0m\n\u001b[1;31mSyntaxError\u001b[0m\u001b[1;31m:\u001b[0m invalid syntax\n"
     ]
    }
   ],
   "source": [
    "DELIMITER $$\n",
    "CREATE FUNCTION flag_marks(a INT) RETURNS VARCHAR(30)\n",
    "DETERMINISTIC\n",
    "BEGIN\n",
    "declare c VARCHAR(30);\n",
    "IF a < 50 THEN SET c = \"Failed\";\n",
    "elseIf a >50 THEN SET c = \"Passed\"\n",
    "end if; \n",
    "return c;\n",
    "end $$\n",
    "\n",
    "SELECT col1, col2, flag_marks(col2) as flag"
   ]
  },
  {
   "cell_type": "markdown",
   "id": "2c4e0ece",
   "metadata": {},
   "source": [
    "# MODULES\n",
    "these are basically inbuild functions created by other developers. \n",
    "now that Python is open source, one can use them.\n",
    "\n",
    "\n",
    "Python as a language - Has functions, keywords.\n",
    "\n",
    "Module: has its predefined : variables,functions and Class.\n",
    "\n",
    "import keyword (import -> Keyword(python); keyword -> consisting of variables, functions and class)\n",
    "kwlist (kw.list -> is a variable a list in the module keyword\n",
    "so print(keyword.kwlist) gives you that list which is a list of all the keywords in that module.\n",
    "\n",
    "dir(keyword) (dir() -> python function to get the details about vairables,functions and class of the  module keyword.\n",
    "\n",
    "\n",
    "\n",
    "import math (import Python key word; math -module)\n",
    "dir(math) : dir->function of  python; dir(math) - gives the set of func,variables and class of that module math.\n",
    "\n",
    "\n",
    "-------------------------------------------------------------------------------------------------------------------------------\n",
    "\n",
    "Libraries : Set of modules. like Numpy,Pandas"
   ]
  },
  {
   "cell_type": "code",
   "execution_count": 80,
   "id": "94720bb8",
   "metadata": {},
   "outputs": [],
   "source": [
    "# WE need to find the list of functions present within a library"
   ]
  },
  {
   "cell_type": "code",
   "execution_count": 81,
   "id": "9aa6f02f",
   "metadata": {},
   "outputs": [
    {
     "name": "stdout",
     "output_type": "stream",
     "text": [
      "['__doc__', '__loader__', '__name__', '__package__', '__spec__', 'acos', 'acosh', 'asin', 'asinh', 'atan', 'atan2', 'atanh', 'cbrt', 'ceil', 'comb', 'copysign', 'cos', 'cosh', 'degrees', 'dist', 'e', 'erf', 'erfc', 'exp', 'exp2', 'expm1', 'fabs', 'factorial', 'floor', 'fmod', 'frexp', 'fsum', 'gamma', 'gcd', 'hypot', 'inf', 'isclose', 'isfinite', 'isinf', 'isnan', 'isqrt', 'lcm', 'ldexp', 'lgamma', 'log', 'log10', 'log1p', 'log2', 'modf', 'nan', 'nextafter', 'perm', 'pi', 'pow', 'prod', 'radians', 'remainder', 'sin', 'sinh', 'sqrt', 'tan', 'tanh', 'tau', 'trunc', 'ulp']\n"
     ]
    }
   ],
   "source": [
    "import math\n",
    "print(dir(math))"
   ]
  },
  {
   "cell_type": "markdown",
   "id": "23c9e18e",
   "metadata": {},
   "source": [
    "dir -> gives the list of function in a particular library"
   ]
  },
  {
   "cell_type": "code",
   "execution_count": 85,
   "id": "d582df69",
   "metadata": {},
   "outputs": [
    {
     "name": "stdout",
     "output_type": "stream",
     "text": [
      "Help on built-in function tan in module math:\n",
      "\n",
      "tan(x, /)\n",
      "    Return the tangent of x (measured in radians).\n",
      "\n"
     ]
    }
   ],
   "source": [
    "help(math.tan) #help - gives you details of any particular function"
   ]
  },
  {
   "cell_type": "code",
   "execution_count": 87,
   "id": "fd148964",
   "metadata": {},
   "outputs": [
    {
     "name": "stdout",
     "output_type": "stream",
     "text": [
      "Help on built-in function sqrt in module math:\n",
      "\n",
      "sqrt(x, /)\n",
      "    Return the square root of x.\n",
      "\n"
     ]
    }
   ],
   "source": [
    "help(math.sqrt)"
   ]
  },
  {
   "cell_type": "code",
   "execution_count": 77,
   "id": "f672f698",
   "metadata": {},
   "outputs": [
    {
     "name": "stdout",
     "output_type": "stream",
     "text": [
      "5.0\n"
     ]
    }
   ],
   "source": [
    "import math\n",
    "x = 25\n",
    "sqr_root = math.sqrt(x) #sqrt is an inbuilt function in math libraries\n",
    "print(sqr_root)"
   ]
  },
  {
   "cell_type": "code",
   "execution_count": 78,
   "id": "c351c454",
   "metadata": {},
   "outputs": [
    {
     "name": "stdout",
     "output_type": "stream",
     "text": [
      "12.0\n"
     ]
    }
   ],
   "source": [
    "import math\n",
    "x = 144\n",
    "y = math.sqrt(x)\n",
    "print(y)"
   ]
  },
  {
   "cell_type": "code",
   "execution_count": 88,
   "id": "1fdf8f6a",
   "metadata": {},
   "outputs": [
    {
     "name": "stdout",
     "output_type": "stream",
     "text": [
      "13.0\n",
      "<class 'float'>\n"
     ]
    }
   ],
   "source": [
    "import math\n",
    "x = 169\n",
    "y = math.sqrt(x)\n",
    "print(y)\n",
    "print(type(y))"
   ]
  },
  {
   "cell_type": "code",
   "execution_count": 89,
   "id": "5d132501",
   "metadata": {},
   "outputs": [
    {
     "name": "stdout",
     "output_type": "stream",
     "text": [
      "6.5\n"
     ]
    }
   ],
   "source": [
    "import math\n",
    "x = 169\n",
    "y = math.sqrt(x)/2\n",
    "print(y)"
   ]
  },
  {
   "cell_type": "code",
   "execution_count": 90,
   "id": "194679e3",
   "metadata": {},
   "outputs": [
    {
     "name": "stdout",
     "output_type": "stream",
     "text": [
      "6.0\n"
     ]
    }
   ],
   "source": [
    "import math\n",
    "x = 169\n",
    "y = math.sqrt(x)//2\n",
    "print(y)"
   ]
  },
  {
   "cell_type": "code",
   "execution_count": 91,
   "id": "7351d27f",
   "metadata": {},
   "outputs": [],
   "source": [
    "#once you have imported the function there is no need to keep imorting again and again\n"
   ]
  },
  {
   "cell_type": "code",
   "execution_count": 92,
   "id": "6cf8f519",
   "metadata": {},
   "outputs": [
    {
     "name": "stdout",
     "output_type": "stream",
     "text": [
      "0.479425538604203 0.8775825618903728 0.5463024898437905\n"
     ]
    }
   ],
   "source": [
    "import math\n",
    "x = 0.5\n",
    "sin_x = math.sin(x)\n",
    "cos_x = math.cos(x)\n",
    "tan_x = math.tan(x)\n",
    "print(sin_x,cos_x,tan_x)"
   ]
  },
  {
   "cell_type": "code",
   "execution_count": 94,
   "id": "483bbdb8",
   "metadata": {},
   "outputs": [
    {
     "name": "stdout",
     "output_type": "stream",
     "text": [
      "{'x': [0.5], 'sin_value': [0.479425538604203], 'cos_value': [0.8775825618903728], 'tan_value': [0.5463024898437905]}\n"
     ]
    }
   ],
   "source": [
    "import math\n",
    "x = 0.5\n",
    "sin_x = math.sin(x)\n",
    "cos_x = math.cos(x)\n",
    "tan_x = math.tan(x)\n",
    "dict_data = {'x':[0.5],'sin_value':[sin_x],'cos_value':[cos_x], 'tan_value':[tan_x]} #used a dictionary type\n",
    "print(dict_data)"
   ]
  },
  {
   "cell_type": "code",
   "execution_count": 95,
   "id": "e823eff7",
   "metadata": {},
   "outputs": [
    {
     "data": {
      "text/plain": [
       "['__doc__',\n",
       " '__loader__',\n",
       " '__name__',\n",
       " '__package__',\n",
       " '__spec__',\n",
       " 'acos',\n",
       " 'acosh',\n",
       " 'asin',\n",
       " 'asinh',\n",
       " 'atan',\n",
       " 'atan2',\n",
       " 'atanh',\n",
       " 'cbrt',\n",
       " 'ceil',\n",
       " 'comb',\n",
       " 'copysign',\n",
       " 'cos',\n",
       " 'cosh',\n",
       " 'degrees',\n",
       " 'dist',\n",
       " 'e',\n",
       " 'erf',\n",
       " 'erfc',\n",
       " 'exp',\n",
       " 'exp2',\n",
       " 'expm1',\n",
       " 'fabs',\n",
       " 'factorial',\n",
       " 'floor',\n",
       " 'fmod',\n",
       " 'frexp',\n",
       " 'fsum',\n",
       " 'gamma',\n",
       " 'gcd',\n",
       " 'hypot',\n",
       " 'inf',\n",
       " 'isclose',\n",
       " 'isfinite',\n",
       " 'isinf',\n",
       " 'isnan',\n",
       " 'isqrt',\n",
       " 'lcm',\n",
       " 'ldexp',\n",
       " 'lgamma',\n",
       " 'log',\n",
       " 'log10',\n",
       " 'log1p',\n",
       " 'log2',\n",
       " 'modf',\n",
       " 'nan',\n",
       " 'nextafter',\n",
       " 'perm',\n",
       " 'pi',\n",
       " 'pow',\n",
       " 'prod',\n",
       " 'radians',\n",
       " 'remainder',\n",
       " 'sin',\n",
       " 'sinh',\n",
       " 'sqrt',\n",
       " 'tan',\n",
       " 'tanh',\n",
       " 'tau',\n",
       " 'trunc',\n",
       " 'ulp']"
      ]
     },
     "execution_count": 95,
     "metadata": {},
     "output_type": "execute_result"
    }
   ],
   "source": [
    "dir(math)"
   ]
  },
  {
   "cell_type": "code",
   "execution_count": 96,
   "id": "82692d4d",
   "metadata": {},
   "outputs": [
    {
     "name": "stdout",
     "output_type": "stream",
     "text": [
      "Help on built-in function exp in module math:\n",
      "\n",
      "exp(x, /)\n",
      "    Return e raised to the power of x.\n",
      "\n"
     ]
    }
   ],
   "source": [
    "help(math.exp)"
   ]
  },
  {
   "cell_type": "code",
   "execution_count": 97,
   "id": "fd6e5c2b",
   "metadata": {},
   "outputs": [
    {
     "name": "stdout",
     "output_type": "stream",
     "text": [
      "Help on built-in function factorial in module math:\n",
      "\n",
      "factorial(n, /)\n",
      "    Find n!.\n",
      "    \n",
      "    Raise a ValueError if x is negative or non-integral.\n",
      "\n"
     ]
    }
   ],
   "source": [
    "help(math.factorial)"
   ]
  },
  {
   "cell_type": "code",
   "execution_count": 100,
   "id": "7f93f298",
   "metadata": {},
   "outputs": [
    {
     "name": "stdout",
     "output_type": "stream",
     "text": [
      "The exponential of 5 is 148.4131591025766\n"
     ]
    }
   ],
   "source": [
    "import math\n",
    "x = 5\n",
    "y = math.exp(x)\n",
    "print(\"The exponential of\", x, \"is\", y)"
   ]
  },
  {
   "cell_type": "code",
   "execution_count": 101,
   "id": "7332e36a",
   "metadata": {},
   "outputs": [
    {
     "name": "stdout",
     "output_type": "stream",
     "text": [
      "The factorial of 4 is 24\n"
     ]
    }
   ],
   "source": [
    "import math\n",
    "x = 4\n",
    "f = math.factorial(x)\n",
    "print(\"The factorial of\", x, \"is\",f)"
   ]
  },
  {
   "cell_type": "raw",
   "id": "9d9ecccc",
   "metadata": {},
   "source": [
    "#LET'S SEE HOW AND WHERE COULD WE USE THESE FUNCTION TO USE IT SOMEWHERE ELSE"
   ]
  },
  {
   "cell_type": "code",
   "execution_count": 102,
   "id": "2d92af00",
   "metadata": {},
   "outputs": [
    {
     "name": "stdout",
     "output_type": "stream",
     "text": [
      "3.141592653589793\n"
     ]
    }
   ],
   "source": [
    "import math\n",
    "print(math.pi)"
   ]
  },
  {
   "cell_type": "code",
   "execution_count": 103,
   "id": "07592647",
   "metadata": {},
   "outputs": [
    {
     "name": "stdout",
     "output_type": "stream",
     "text": [
      "The area of the circle is 50.26548245743669\n"
     ]
    }
   ],
   "source": [
    "#now lets use the imported value to calculate the area of a circle\n",
    "\n",
    "import math\n",
    "def circle_area(r):\n",
    "    return math.pi*r**2\n",
    "print(\"The area of the circle is\", circle_area(4))\n"
   ]
  },
  {
   "cell_type": "code",
   "execution_count": 105,
   "id": "4be762dd",
   "metadata": {},
   "outputs": [
    {
     "name": "stdout",
     "output_type": "stream",
     "text": [
      "31.41592653589793\n"
     ]
    }
   ],
   "source": [
    "import math\n",
    "def circle_area(r):\n",
    "    return math.pi*r*2\n",
    "r = 5\n",
    "a=circle_area(r)\n",
    "print(a)\n"
   ]
  },
  {
   "cell_type": "code",
   "execution_count": 109,
   "id": "8f1149ec",
   "metadata": {},
   "outputs": [
    {
     "name": "stdout",
     "output_type": "stream",
     "text": [
      "The are of the circle is 78.54\n"
     ]
    }
   ],
   "source": [
    "import math\n",
    "def circle_area(r):\n",
    "    return math.pi*r**2\n",
    "print(\"The are of the circle is {:.2f}\".format(circle_area(5)))  #{:.2f} i was to limit the result upto 2 places of decimal"
   ]
  },
  {
   "cell_type": "markdown",
   "id": "a3a781c4",
   "metadata": {},
   "source": [
    "{:.2f} - thats a placeholder \n",
    ".format(area_with_radius_5) - method call that replaces the placeholder in the string with the value of circle_area(5)"
   ]
  },
  {
   "cell_type": "code",
   "execution_count": 113,
   "id": "353c26ab",
   "metadata": {},
   "outputs": [
    {
     "name": "stdout",
     "output_type": "stream",
     "text": [
      "The area of the circle is 78.54\n"
     ]
    }
   ],
   "source": [
    "import math\n",
    "def circle_area(r):\n",
    "    return math.pi *r **2\n",
    "print(\"The area of the circle is {:.2f}\".format(circle_area(5)))"
   ]
  },
  {
   "cell_type": "code",
   "execution_count": 116,
   "id": "a97e61e1",
   "metadata": {},
   "outputs": [
    {
     "name": "stdout",
     "output_type": "stream",
     "text": [
      "Tan(x) = 3.615\n"
     ]
    }
   ],
   "source": [
    "import math\n",
    "\n",
    "def tan_fun(x):\n",
    "    return math.sin(x) / math.cos(x) #you can't assign a varible in return for example return tan(x) = sin(x)/cos(x) -> XXX\n",
    "\n",
    "print(\"Tan(x) =\", \"{:.3f}\".format(tan_fun(39)))\n"
   ]
  },
  {
   "cell_type": "markdown",
   "id": "af8b7520",
   "metadata": {},
   "source": [
    "# PLACEHOLDERS AND FORMAT"
   ]
  },
  {
   "cell_type": "markdown",
   "id": "d0b9776c",
   "metadata": {},
   "source": [
    "format method in Python is quite versatile and can be used in many different ways to format strings."
   ]
  },
  {
   "cell_type": "code",
   "execution_count": 117,
   "id": "82f66c7a",
   "metadata": {},
   "outputs": [],
   "source": [
    "#Basic placeholder"
   ]
  },
  {
   "cell_type": "code",
   "execution_count": 120,
   "id": "9fea832a",
   "metadata": {},
   "outputs": [
    {
     "name": "stdout",
     "output_type": "stream",
     "text": [
      "Hello,Alice!\n"
     ]
    }
   ],
   "source": [
    "name = \"Alice\"\n",
    "greeting = \"Hello,{}!\".format(name)\n",
    "print(greeting)"
   ]
  },
  {
   "cell_type": "code",
   "execution_count": 122,
   "id": "7f9f92f5",
   "metadata": {},
   "outputs": [
    {
     "name": "stdout",
     "output_type": "stream",
     "text": [
      "Mohanty.Alice\n"
     ]
    }
   ],
   "source": [
    "first_name=\"Alice\"\n",
    "last_name = \"Mohanty\"\n",
    "passport_name = \"{}.{}\".format(last_name,first_name)\n",
    "print(passport_name)"
   ]
  },
  {
   "cell_type": "code",
   "execution_count": 125,
   "id": "3d0666b2",
   "metadata": {},
   "outputs": [
    {
     "name": "stdout",
     "output_type": "stream",
     "text": [
      "+91-637-139-9536\n"
     ]
    }
   ],
   "source": [
    "country_code = \"+91\"\n",
    "first_number =637\n",
    "mid_number = 139\n",
    "last_number =9536\n",
    "phone_number = \"{}-{}-{}-{}\".format(country_code,first_number,mid_number,last_number)\n",
    "print(phone_number)"
   ]
  },
  {
   "cell_type": "code",
   "execution_count": 129,
   "id": "b7c7c0ea",
   "metadata": {},
   "outputs": [
    {
     "name": "stdout",
     "output_type": "stream",
     "text": [
      "sheetal lives with Raj in Paris\n"
     ]
    }
   ],
   "source": [
    "a = \"sheetal\"\n",
    "b = \"Raj\"\n",
    "c = \"Paris\"\n",
    "\n",
    "r = \"{} lives with {} in {}\".format(a,b,c)\n",
    "print(r)"
   ]
  },
  {
   "cell_type": "code",
   "execution_count": 130,
   "id": "af7d1cb6",
   "metadata": {},
   "outputs": [],
   "source": [
    "# Formatting Numbers\n",
    "#format can be used to format numbers in various ways:"
   ]
  },
  {
   "cell_type": "raw",
   "id": "eab7ed61",
   "metadata": {},
   "source": []
  },
  {
   "cell_type": "code",
   "execution_count": 131,
   "id": "9c4f3a6a",
   "metadata": {},
   "outputs": [],
   "source": [
    "# 1. Decimal Places:"
   ]
  },
  {
   "cell_type": "code",
   "execution_count": 132,
   "id": "9d3acf93",
   "metadata": {},
   "outputs": [
    {
     "name": "stdout",
     "output_type": "stream",
     "text": [
      "Pi rounded to two decimal places is 3.14\n"
     ]
    }
   ],
   "source": [
    "pi = 3.14159265\n",
    "text = \"Pi rounded to two decimal places is {:.2f}\".format(pi)\n",
    "print(text)"
   ]
  },
  {
   "cell_type": "raw",
   "id": "1c3ea044",
   "metadata": {},
   "source": []
  },
  {
   "cell_type": "code",
   "execution_count": 136,
   "id": "0ce76070",
   "metadata": {},
   "outputs": [],
   "source": [
    "#2. Commas as Thousands Separator:"
   ]
  },
  {
   "cell_type": "code",
   "execution_count": 137,
   "id": "96b6bfeb",
   "metadata": {},
   "outputs": [
    {
     "name": "stdout",
     "output_type": "stream",
     "text": [
      "Formatted number: 12,345,678\n"
     ]
    }
   ],
   "source": [
    "large_number = 12345678\n",
    "text = \"Formatted number: {:,}\".format(large_number)\n",
    "print(text)  \n"
   ]
  },
  {
   "cell_type": "code",
   "execution_count": 138,
   "id": "99d4a99b",
   "metadata": {},
   "outputs": [
    {
     "name": "stdout",
     "output_type": "stream",
     "text": [
      "Formatted number: 22,345\n"
     ]
    }
   ],
   "source": [
    "large_number  = 22345\n",
    "text = \"Formatted number: {:,}\".format(large_number)\n",
    "print(text)"
   ]
  },
  {
   "cell_type": "code",
   "execution_count": 140,
   "id": "55b606ff",
   "metadata": {},
   "outputs": [
    {
     "name": "stdout",
     "output_type": "stream",
     "text": [
      "Formatted number = 2,345\n"
     ]
    }
   ],
   "source": [
    "large_number = 2345\n",
    "text = \"Formatted number = {:,}\".format(large_number)\n",
    "print(text)"
   ]
  },
  {
   "cell_type": "code",
   "execution_count": 141,
   "id": "69f2064f",
   "metadata": {},
   "outputs": [],
   "source": [
    "#3. Percentage Format:"
   ]
  },
  {
   "cell_type": "code",
   "execution_count": 142,
   "id": "1aaeaeb2",
   "metadata": {},
   "outputs": [
    {
     "name": "stdout",
     "output_type": "stream",
     "text": [
      "As a percentage: 75.0%\n"
     ]
    }
   ],
   "source": [
    "fraction = 0.75\n",
    "text = \"As a percentage: {:.1%}\".format(fraction)\n",
    "print(text)"
   ]
  },
  {
   "cell_type": "code",
   "execution_count": 144,
   "id": "eb25721c",
   "metadata": {},
   "outputs": [
    {
     "name": "stdout",
     "output_type": "stream",
     "text": [
      "The desired percentage is: 82.6%\n"
     ]
    }
   ],
   "source": [
    "fraction = 0.826\n",
    "text = \"The desired percentage is: {:.1%}\".format(fraction)\n",
    "print(text)"
   ]
  },
  {
   "cell_type": "code",
   "execution_count": 146,
   "id": "213dc757",
   "metadata": {},
   "outputs": [
    {
     "name": "stdout",
     "output_type": "stream",
     "text": [
      "The formatted value is: 82.35%\n"
     ]
    }
   ],
   "source": [
    "fraction = 0.823456\n",
    "text = \"The formatted value is: {:.2%}\".format(fraction) \n",
    "print(text)"
   ]
  },
  {
   "cell_type": "raw",
   "id": "cc97e91f",
   "metadata": {},
   "source": [
    "# {:.2f} - 2 places of decimal \n",
    "\n",
    "# {:,}- to put commas after thousands.\n",
    "\n",
    "# {:1%}- fraction converted to Percentage and then with 1 place after the decimal.\n",
    "\n",
    "# {:2%} - fraction converted to Percentage and then with 2 place after the decimal."
   ]
  },
  {
   "cell_type": "code",
   "execution_count": null,
   "id": "f53a08da",
   "metadata": {},
   "outputs": [],
   "source": []
  }
 ],
 "metadata": {
  "kernelspec": {
   "display_name": "Python 3 (ipykernel)",
   "language": "python",
   "name": "python3"
  },
  "language_info": {
   "codemirror_mode": {
    "name": "ipython",
    "version": 3
   },
   "file_extension": ".py",
   "mimetype": "text/x-python",
   "name": "python",
   "nbconvert_exporter": "python",
   "pygments_lexer": "ipython3",
   "version": "3.11.5"
  }
 },
 "nbformat": 4,
 "nbformat_minor": 5
}
